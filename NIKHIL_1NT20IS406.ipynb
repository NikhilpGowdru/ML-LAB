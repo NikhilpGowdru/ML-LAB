{
 "cells": [
  {
   "cell_type": "code",
   "execution_count": 1,
   "metadata": {},
   "outputs": [],
   "source": [
    "import math"
   ]
  },
  {
   "cell_type": "code",
   "execution_count": 24,
   "metadata": {},
   "outputs": [],
   "source": [
    "nums = [80, 90, 100, 120, 130, 145, 150,160]\n",
    "\n",
    "size = len(nums)"
   ]
  },
  {
   "cell_type": "code",
   "execution_count": 18,
   "metadata": {},
   "outputs": [
    {
     "name": "stdout",
     "output_type": "stream",
     "text": [
      "116.42857142857143\n"
     ]
    }
   ],
   "source": [
    "#means \n",
    "def Mean(nums):\n",
    "    size = len(nums)\n",
    "    sum = 0\n",
    "    \n",
    "    for i in nums:\n",
    "        sum +=i\n",
    "    \n",
    "    mean=sum/size\n",
    "    return mean\n",
    "print(Mean(nums))"
   ]
  },
  {
   "cell_type": "code",
   "execution_count": 17,
   "metadata": {},
   "outputs": [
    {
     "name": "stdout",
     "output_type": "stream",
     "text": [
      "4\n"
     ]
    }
   ],
   "source": [
    "def Median(nums):\n",
    "    size = len(nums)\n",
    "    \n",
    "    nums.sort()\n",
    "    if size % 2 ==0:\n",
    "        num1=nums[size//2]\n",
    "        num2=nums[size//2]\n",
    "        num=(num1+num2)/2\n",
    "    else:\n",
    "        num =(size+1)//2\n",
    "    return num\n",
    "print(Median(nums))\n"
   ]
  },
  {
   "cell_type": "code",
   "execution_count": 26,
   "metadata": {},
   "outputs": [
    {
     "name": "stdout",
     "output_type": "stream",
     "text": [
      "Mode is not available\n",
      "\n"
     ]
    }
   ],
   "source": [
    "# Mode \n",
    "def Mode(nums):\n",
    "    d = dict()\n",
    "    \n",
    "    for i in nums:\n",
    "        d[i] = 0\n",
    "        maxi = nums[0]\n",
    "    for i in nums:\n",
    "        d[i] += 1\n",
    "    if d[i] > d[maxi]:\n",
    "            maxi = i\n",
    "    if d[maxi] == 1:\n",
    "        print(\"Mode is not available\\n\")\n",
    "        \n",
    "    else:\n",
    "        print(\"The mode is \"+str(i)+\" : \"+str(d[maxi]))\n",
    "    \n",
    "Mode(nums)\n"
   ]
  },
  {
   "cell_type": "code",
   "execution_count": 27,
   "metadata": {},
   "outputs": [
    {
     "name": "stdout",
     "output_type": "stream",
     "text": [
      "5.5\n"
     ]
    }
   ],
   "source": [
    "#mean\n",
    "num=[1,2,3,4,5,6,7,8,9,10]\n",
    "n=len(num)\n",
    "meanans=sum(num)/n\n",
    "print(meanans)\n"
   ]
  },
  {
   "cell_type": "code",
   "execution_count": 28,
   "metadata": {},
   "outputs": [
    {
     "name": "stdout",
     "output_type": "stream",
     "text": [
      "median is 12\n"
     ]
    }
   ],
   "source": [
    "#median\n",
    "data=[21, 13, 19, 3,11,5]\n",
    "data.sort()\n",
    "\n",
    "n=len(data)\n",
    "if n%2==0:\n",
    "    firstmed=data[n//2]\n",
    "    secmed=data[(n+1)//2-1]\n",
    "    median=(firstmed+secmed)//2\n",
    "else:\n",
    "    median=data[n//2]\n",
    "print(\"median is\",median)"
   ]
  },
  {
   "cell_type": "code",
   "execution_count": 29,
   "metadata": {},
   "outputs": [
    {
     "name": "stdout",
     "output_type": "stream",
     "text": [
      "{1: 2, 2: 2, 3: 4}\n",
      "4\n"
     ]
    }
   ],
   "source": [
    "#mode\n",
    "def modef(nums):\n",
    "    freq={}\n",
    "    for i in nums:\n",
    "        freq.setdefault(i,0)\n",
    "        freq[i]+=1\n",
    "    print(freq)\n",
    "    maxfreq=max(freq.values())\n",
    "    print(maxfreq)\n",
    "nums=[1,2,3,3,3,3,2,1]\n",
    "modef(nums)"
   ]
  },
  {
   "cell_type": "code",
   "execution_count": 30,
   "metadata": {},
   "outputs": [
    {
     "name": "stdout",
     "output_type": "stream",
     "text": [
      "2\n"
     ]
    }
   ],
   "source": [
    "\n",
    "#varience\n",
    "lis=[1,2,3,4,5]\n",
    "n=len(lis)\n",
    "mean=sum(lis)//n\n",
    "var=0\n",
    "for i in lis:\n",
    "    var=var+(i-mean)**2\n",
    "    varience=var//n\n",
    "print(varience)"
   ]
  },
  {
   "cell_type": "code",
   "execution_count": 31,
   "metadata": {},
   "outputs": [
    {
     "name": "stdout",
     "output_type": "stream",
     "text": [
      "1.4142135623730951\n"
     ]
    }
   ],
   "source": [
    "#standard deviation\n",
    "lis=[1,2,3,4,5]\n",
    "n=len(lis)\n",
    "mean=sum(lis)//n\n",
    "var=0\n",
    "for i in lis:\n",
    "    var=var+(i-mean)**2\n",
    "    Sd=(var//n)**0.5\n",
    "print(Sd)"
   ]
  },
  {
   "cell_type": "code",
   "execution_count": null,
   "metadata": {},
   "outputs": [],
   "source": []
  }
 ],
 "metadata": {
  "kernelspec": {
   "display_name": "Python 3 (ipykernel)",
   "language": "python",
   "name": "python3"
  },
  "language_info": {
   "codemirror_mode": {
    "name": "ipython",
    "version": 3
   },
   "file_extension": ".py",
   "mimetype": "text/x-python",
   "name": "python",
   "nbconvert_exporter": "python",
   "pygments_lexer": "ipython3",
   "version": "3.7.6"
  }
 },
 "nbformat": 4,
 "nbformat_minor": 4
}
